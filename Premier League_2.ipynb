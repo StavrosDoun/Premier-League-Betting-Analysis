#!/usr/bin/env python
# coding: utf-8

# In[1]:


import pandas as pd
import numpy as np
import matplotlib.pyplot as plt
from datetime import datetime
pd.set_option('display.max_columns', None)
pd.options.mode.chained_assignment = None


# In[8]:


stats = pd.read_csv('stats.csv')


# In[15]:


stats


# In[198]:


results = pd.read_csv('results.csv')
results


# # 1

# ###### X per season and 3 top teams draw

# In[220]:


results_X = results[results['result'] == 'D']
results_X_H = results_X.groupby(['home_team', 'season'])['result'].count().reset_index()


# In[221]:


results_X_H


# In[222]:


results_X_A = results_X.groupby(['away_team', 'season'])['result'].count().reset_index()
results_X_A


# In[223]:


total_X = pd.merge( results_X_H , results_X_A , left_on = ['home_team', 'season'], right_on = ['away_team','season'] , how = 'left')
total_X


# In[224]:


total_X['total_X'] = total_X['result_x'] + total_X['result_y']


# In[225]:


total_X


# In[246]:


total_X_1 = total_X.groupby(['home_team', 'season'])['total_X'].sum().reset_index()


# In[380]:


total_X_2 = total_X_1[(total_X_1['total_X'] >= 13)]
len(total_X_2.groupby(['home_team','season'])['total_X'].sum().reset_index())


# In[381]:


total_X_2.groupby(['home_team','season'])['total_X'].sum().reset_index()


# In[ ]:


# 38 times a team has as result a draw


# In[278]:


total_X_3 = total_X_2.groupby(['home_team', 'season'])['total_X'].sum().reset_index()


# In[280]:


total_X_3 = total_X_3[(total_X_3['home_team']== 'Aston Villa') | (total_X_3['home_team']== 'Everton') | (total_X_3['home_team']== 'Tottenham Hotspur') ]


# In[287]:


total_X_4 = total_X_3[((total_X_3['home_team'] == 'Aston Villa') & (total_X_3['total_X'] >= 17)) | ((total_X_3['home_team'] == 'Everton') & (total_X_3['total_X'] >= 15)) | ((total_X_3['home_team'] == 'Tottenham Hotspur') & (total_X_3['total_X'] >= 14)) ] 


# In[288]:


total_X_4


# In[383]:


total_X_4.groupby('home_team')['total_X'].mean().plot(kind = 'bar', figsize = (5,5), x='Teams', y='Draws', rot = 0, title = 'Top 3 Teams to Draw')
None


# # 2

# ###### 1 & Over 2,5  Top3

# In[345]:


Top3_Teams = results.copy()
Top3_Teams


# In[346]:


Top3_Teams['over_2_5_'] = Top3_Teams['home_goals'] + Top3_Teams['away_goals']
Top3_Teams


# In[347]:


Top3_over = Top3_Teams[(Top3_Teams['over_2_5_'] >= 3) & (Top3_Teams['home_goals']>Top3_Teams['away_goals'])]
Top3_over


# In[352]:


Top3_over_2_5_ =Top3_over.groupby(["home_team",'season'])['over_2_5_'].count().reset_index()
Top3_over_2_5_


# In[357]:


Top3_over_2_5_5 = Top3_over_2_5_[Top3_over_2_5_['over_2_5_'] > 9]
Top3_over_2_5_5.sort_values('over_2_5_', ascending = False)


# In[358]:


Top3_over_2_5_5['home_team'].unique()


# In[395]:


Top3_over_2_5_5.plot(kind='bar', x='home_team', y='over_2_5_',rot = 45, legend=False)
plt.title('Top 6 Teams - Win & Over 2,5')
plt.xlabel('Teams')
plt.ylabel('Matches')


# # 3

# # Over 2,5 & Over 3,5

# ###### Over 3,5

# In[382]:


results['total_goals'] = results['home_goals'] + results['away_goals']
results


# In[387]:


results_over_3_5_ = results[results['total_goals'] > 3]
results_over_3_5_


# In[388]:


Over_3 =results_over_3_5_.groupby(['season'])['total_goals'].count().reset_index()


# In[389]:


Over_3


# In[93]:


Over_3.mean()


# In[94]:


# Average games over 3,5 110 per year


# In[394]:


Over_3.plot(kind='bar', x='season', y='total_goals',rot = 45, legend=False)
plt.title('Over 3,5 Goals per Season')
plt.xlabel('Seasons')
plt.ylabel('Matches')


# ###### Over 2,5

# In[98]:


results_over2 =  results[results['total_goals'] >= 3]
results_over2


# In[396]:


Over_2 =results_over2.groupby(['season'])['total_goals'].count().reset_index()
Over_2


# In[105]:


Over_2.mean()


# In[398]:


Over_2.plot(kind='bar', x='season', y='total_goals',rot = 45, legend=False)
plt.title('Over 2,5 Goals per Season')
plt.xlabel('Seasons')
plt.ylabel('Matches')


# In[ ]:





# In[ ]:





# # 4

# ###### GG & Over 2,5 

# In[106]:


results


# In[110]:


GG_over_2_1 = results[(results['total_goals'] >= 3) & (results['home_goals']>0) & (results['away_goals'] >0)]
GG_over_2_1


# In[399]:


GG_over_2 =GG_over_2_1.groupby(['season'])['total_goals'].count().reset_index()
GG_over_2


# In[113]:


GG_over_2.mean()


# In[400]:


GG_over_2.plot(kind='bar', x='season', y='total_goals',rot = 45, legend=False)
plt.title('GG & Over')
plt.xlabel('Seasons')
plt.ylabel('Matches')


# In[ ]:





# # 5

# # Yellow and Red

# # 6

# # Corner

# In[124]:


stats.groupby(['team', 'season'])['corner_taken'].sum().mean()


# In[125]:


207.2 / 38


# In[126]:


# 5,5 corner /match


# In[138]:


stats['average_corners'] = stats['corner_taken'] / 38
stats


# In[147]:


stats_overcorner = stats[(stats['average_corners']>=7)]


# In[148]:


stats_overcorner


# In[149]:


# corner over 4


# In[401]:


stats_overcorner.groupby(['team', 'season'])['average_corners'].sum().reset_index()


# In[445]:


stats_overcorner.plot(kind='bar', x='team', y='average_corners',rot = 55, legend=False)
plt.title('Corners over 7')
plt.xlabel('Teams')
plt.ylabel('Corners')


# In[ ]:





# In[ ]:





# In[ ]:





# # 7

# # Gia tolmirous: Dokari & Penalty

# In[152]:


stats


# In[153]:


stats['average_woodwork'] = stats['hit_woodwork'] / 38


# In[154]:


stats


# In[166]:


woodwork_0_5_ = stats[(stats['average_woodwork']>0.5)]


# In[432]:


w = woodwork_0_5_.groupby(['team', 'season'])['average_woodwork'].sum().reset_index()
w.mean()


# In[439]:


stats['average_penalties'] = stats['att_pen_goal'] / 38


# In[440]:


stats


# In[447]:


average_penalties = stats[(stats['average_penalties'] > 0.1)]
average_penalties.mean()


# In[448]:


avg = average_penalties.groupby(['season'])['average_penalties'].count().reset_index()
avg.mean()


# In[449]:


avgpen = average_penalties.groupby(['team'])['average_penalties'].count().reset_index()


# In[452]:


avgpen.plot(kind='bar', x='team', y='average_penalties',rot = 45, legend=False)
plt.title('Penalties per season')
plt.xlabel('Teams')
plt.ylabel('Avg Penalties')


# In[453]:


# oti to stoixima bgainei pio syxna sto dokari logo tou oti exei megalyterh apotelesmatikotita apo to penalti


# In[ ]:




